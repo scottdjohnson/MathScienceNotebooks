{
 "cells": [
  {
   "cell_type": "markdown",
   "metadata": {},
   "source": [
    "This experiment shows that a simple neural network can learn to predict the difference between a JPG and PNG image. Therefore, models trained on datasets where one class of images are JPGs and another are PNGs are very likely to be able to predict the difference between the two solely on the image format and not the image content.\n",
    "\n",
    "Specifically, this experiment should challenge the assumptions of the journal article [\"Criminal tendency detection from facial images and the gender bias effect\"](https://journalofbigdata.springeropen.com/articles/10.1186/s40537-019-0282-4) which used all PNGs for mugshots of (presumably) criminals and all JPGs for photos of (presumably) non-criminals. The seemingly excellent result of their experiment (97% accuracy) can be discarded now that we understand that what they created was probably a very sophisticated PNG vs JPG detector.\n",
    "\n",
    "This notebook is based on the example from the [Deep Learning With Python](https://github.com/fchollet/deep-learning-with-python-notebooks/blob/master/2.1-a-first-look-at-a-neural-network.ipynb) Chapter 2 notebook on handwritted image detection."
   ]
  },
  {
   "cell_type": "code",
   "execution_count": 1,
   "metadata": {},
   "outputs": [
    {
     "name": "stderr",
     "output_type": "stream",
     "text": [
      "Using TensorFlow backend.\n"
     ]
    },
    {
     "name": "stdout",
     "output_type": "stream",
     "text": [
      "WARNING:tensorflow:From /home/ec2-user/anaconda3/envs/tensorflow_p36/lib/python3.6/site-packages/tensorflow_core/__init__.py:1467: The name tf.estimator.inputs is deprecated. Please use tf.compat.v1.estimator.inputs instead.\n",
      "\n"
     ]
    }
   ],
   "source": [
    "import keras\n",
    "from keras.datasets import mnist\n",
    "\n",
    "(train_images, train_labels), (test_images, test_labels) = mnist.load_data()"
   ]
  },
  {
   "cell_type": "markdown",
   "metadata": {},
   "source": [
    "Function for converting the format of an image into either JPG or PNG"
   ]
  },
  {
   "cell_type": "code",
   "execution_count": 2,
   "metadata": {},
   "outputs": [],
   "source": [
    "from PIL import Image\n",
    "import numpy as np\n",
    "from io import BytesIO\n",
    "\n",
    "def convertFormat(ndarray, imgFormat):\n",
    "    acc_list = []\n",
    "    \n",
    "    imgArray=np.reshape(ndarray,(28,28))\n",
    "    image = Image.fromarray(imgArray).convert('L')\n",
    "\n",
    "    with BytesIO() as f:\n",
    "        image.save(f, format=imgFormat)\n",
    "        data = np.asarray(Image.open(f), dtype=\"float32\").ravel()\n",
    "        acc_list.append(data)\n",
    "\n",
    "    return np.array(acc_list)\n"
   ]
  },
  {
   "cell_type": "markdown",
   "metadata": {},
   "source": [
    "Function for training and evaluating a neural network with test and train datasets and test and train labels"
   ]
  },
  {
   "cell_type": "code",
   "execution_count": 3,
   "metadata": {},
   "outputs": [],
   "source": [
    "from keras import models\n",
    "from keras import layers\n",
    "from keras.utils import to_categorical\n",
    "\n",
    "def trainAndEvalNetwork(train_data, train_labels, test_data, test_labels, input_size, label_range):\n",
    "    network = models.Sequential()\n",
    "    network.add(layers.Dense(512, activation='relu', input_shape=(input_size,)))\n",
    "    network.add(layers.Dense(label_range, activation='softmax'))\n",
    "    \n",
    "    network.compile(optimizer='rmsprop',\n",
    "                loss='categorical_crossentropy',\n",
    "                metrics=['accuracy'])\n",
    "    \n",
    "    train_data = train_data.reshape((len(train_data), input_size))\n",
    "    train_data = train_data.astype('float32') / 255\n",
    "\n",
    "    test_data = test_data.reshape((len(test_data), input_size))\n",
    "    test_data = test_data.astype('float32') / 255\n",
    "    \n",
    "    network.fit(train_data, to_categorical(train_labels), epochs=5, batch_size=128)\n",
    "    \n",
    "    test_loss, test_acc = network.evaluate(test_data, to_categorical(test_labels))\n",
    "    \n",
    "    print('test_acc:', test_acc)"
   ]
  },
  {
   "cell_type": "markdown",
   "metadata": {},
   "source": [
    "Randomly designate each image as either 0 for \"Non-criminal\" or 1 for \"Criminal\". These are handwritten digits, but we designate them completely randomly and with no consideration for the actual content of the image."
   ]
  },
  {
   "cell_type": "code",
   "execution_count": 4,
   "metadata": {},
   "outputs": [],
   "source": [
    "# Random junk experiment\n",
    "import random\n",
    "\n",
    "random.seed()\n",
    "\n",
    "train_labels_rand = []\n",
    "for i in range (0, len(train_images)):\n",
    "    train_labels_rand.append(random.randrange(0,2))\n",
    "    \n",
    "test_labels_rand = []\n",
    "for i in range (0, len(test_images)):\n",
    "    test_labels_rand.append(random.randrange(0,2))"
   ]
  },
  {
   "cell_type": "markdown",
   "metadata": {},
   "source": [
    "Train and evaluate the model on the dataset of handwritten numbers, with our new randomly generated labels designating them either Criminal or Non-criminal"
   ]
  },
  {
   "cell_type": "code",
   "execution_count": 5,
   "metadata": {},
   "outputs": [
    {
     "name": "stdout",
     "output_type": "stream",
     "text": [
      "WARNING:tensorflow:From /home/ec2-user/anaconda3/envs/tensorflow_p36/lib/python3.6/site-packages/keras/backend/tensorflow_backend.py:74: The name tf.get_default_graph is deprecated. Please use tf.compat.v1.get_default_graph instead.\n",
      "\n",
      "WARNING:tensorflow:From /home/ec2-user/anaconda3/envs/tensorflow_p36/lib/python3.6/site-packages/keras/backend/tensorflow_backend.py:517: The name tf.placeholder is deprecated. Please use tf.compat.v1.placeholder instead.\n",
      "\n",
      "WARNING:tensorflow:From /home/ec2-user/anaconda3/envs/tensorflow_p36/lib/python3.6/site-packages/keras/backend/tensorflow_backend.py:4138: The name tf.random_uniform is deprecated. Please use tf.random.uniform instead.\n",
      "\n",
      "WARNING:tensorflow:From /home/ec2-user/anaconda3/envs/tensorflow_p36/lib/python3.6/site-packages/keras/optimizers.py:790: The name tf.train.Optimizer is deprecated. Please use tf.compat.v1.train.Optimizer instead.\n",
      "\n",
      "WARNING:tensorflow:From /home/ec2-user/anaconda3/envs/tensorflow_p36/lib/python3.6/site-packages/keras/backend/tensorflow_backend.py:3295: The name tf.log is deprecated. Please use tf.math.log instead.\n",
      "\n",
      "WARNING:tensorflow:From /home/ec2-user/anaconda3/envs/tensorflow_p36/lib/python3.6/site-packages/tensorflow_core/python/ops/math_grad.py:1424: where (from tensorflow.python.ops.array_ops) is deprecated and will be removed in a future version.\n",
      "Instructions for updating:\n",
      "Use tf.where in 2.0, which has the same broadcast rule as np.where\n",
      "WARNING:tensorflow:From /home/ec2-user/anaconda3/envs/tensorflow_p36/lib/python3.6/site-packages/keras/backend/tensorflow_backend.py:986: The name tf.assign_add is deprecated. Please use tf.compat.v1.assign_add instead.\n",
      "\n",
      "WARNING:tensorflow:From /home/ec2-user/anaconda3/envs/tensorflow_p36/lib/python3.6/site-packages/keras/backend/tensorflow_backend.py:973: The name tf.assign is deprecated. Please use tf.compat.v1.assign instead.\n",
      "\n",
      "WARNING:tensorflow:From /home/ec2-user/anaconda3/envs/tensorflow_p36/lib/python3.6/site-packages/keras/backend/tensorflow_backend.py:2741: The name tf.Session is deprecated. Please use tf.compat.v1.Session instead.\n",
      "\n",
      "Epoch 1/5\n",
      "WARNING:tensorflow:From /home/ec2-user/anaconda3/envs/tensorflow_p36/lib/python3.6/site-packages/keras/backend/tensorflow_backend.py:174: The name tf.get_default_session is deprecated. Please use tf.compat.v1.get_default_session instead.\n",
      "\n",
      "WARNING:tensorflow:From /home/ec2-user/anaconda3/envs/tensorflow_p36/lib/python3.6/site-packages/keras/backend/tensorflow_backend.py:184: The name tf.ConfigProto is deprecated. Please use tf.compat.v1.ConfigProto instead.\n",
      "\n",
      "WARNING:tensorflow:From /home/ec2-user/anaconda3/envs/tensorflow_p36/lib/python3.6/site-packages/keras/backend/tensorflow_backend.py:190: The name tf.global_variables is deprecated. Please use tf.compat.v1.global_variables instead.\n",
      "\n",
      "WARNING:tensorflow:From /home/ec2-user/anaconda3/envs/tensorflow_p36/lib/python3.6/site-packages/keras/backend/tensorflow_backend.py:199: The name tf.is_variable_initialized is deprecated. Please use tf.compat.v1.is_variable_initialized instead.\n",
      "\n",
      "WARNING:tensorflow:From /home/ec2-user/anaconda3/envs/tensorflow_p36/lib/python3.6/site-packages/keras/backend/tensorflow_backend.py:206: The name tf.variables_initializer is deprecated. Please use tf.compat.v1.variables_initializer instead.\n",
      "\n",
      "60000/60000 [==============================] - 4s 61us/step - loss: 0.7043 - acc: 0.4969\n",
      "Epoch 2/5\n",
      "60000/60000 [==============================] - 3s 52us/step - loss: 0.6941 - acc: 0.5118\n",
      "Epoch 3/5\n",
      "60000/60000 [==============================] - 3s 53us/step - loss: 0.6922 - acc: 0.5233\n",
      "Epoch 4/5\n",
      "60000/60000 [==============================] - 3s 54us/step - loss: 0.6889 - acc: 0.5352\n",
      "Epoch 5/5\n",
      "60000/60000 [==============================] - 3s 53us/step - loss: 0.6834 - acc: 0.5535\n",
      "10000/10000 [==============================] - 0s 41us/step\n",
      "test_acc: 0.5053\n"
     ]
    }
   ],
   "source": [
    "trainAndEvalNetwork(train_images, train_labels_rand, test_images, test_labels_rand, 28 * 28, 2)"
   ]
  },
  {
   "cell_type": "markdown",
   "metadata": {},
   "source": [
    "Note that the above result is around 50%. Essentially, our model is guessing one of two possible values and is doing no better than a coin toss."
   ]
  },
  {
   "cell_type": "markdown",
   "metadata": {},
   "source": [
    "Next, we produce a modified dataset where the images we have labelled as 0 (aka Non-criminal) are converted to JPGs and those labelled as 1 (aka Criminal) are converted to PNGs."
   ]
  },
  {
   "cell_type": "code",
   "execution_count": 6,
   "metadata": {},
   "outputs": [],
   "source": [
    "train_images_crim = []\n",
    "for index, img in enumerate(train_images):\n",
    "    if train_labels_rand[index] == 0:\n",
    "        train_images_crim.append(convertFormat(img, 'JPEG'))\n",
    "    else:\n",
    "        train_images_crim.append(convertFormat(img, 'PNG'))\n",
    "\n",
    "test_images_crim = []\n",
    "for index, img in enumerate(test_images):\n",
    "    if test_labels_rand[index] == 0:\n",
    "        test_images_crim.append(convertFormat(img, 'JPEG'))\n",
    "    else:\n",
    "        test_images_crim.append(convertFormat(img, 'PNG'))\n",
    "\n",
    "train_images_crim = np.array(train_images_crim)\n",
    "test_images_crim = np.array(test_images_crim)"
   ]
  },
  {
   "cell_type": "markdown",
   "metadata": {},
   "source": [
    "Train and evaluate the model on the above dataset with \"criminal\" and \"non-criminal\" images, labelled accordingly."
   ]
  },
  {
   "cell_type": "code",
   "execution_count": 7,
   "metadata": {},
   "outputs": [
    {
     "name": "stdout",
     "output_type": "stream",
     "text": [
      "Epoch 1/5\n",
      "60000/60000 [==============================] - 4s 62us/step - loss: 0.3849 - acc: 0.8159\n",
      "Epoch 2/5\n",
      "60000/60000 [==============================] - 3s 51us/step - loss: 0.0897 - acc: 0.9732\n",
      "Epoch 3/5\n",
      "60000/60000 [==============================] - 3s 51us/step - loss: 0.0333 - acc: 0.9904\n",
      "Epoch 4/5\n",
      "60000/60000 [==============================] - 3s 51us/step - loss: 0.0155 - acc: 0.9957\n",
      "Epoch 5/5\n",
      "60000/60000 [==============================] - 3s 51us/step - loss: 0.0086 - acc: 0.9976\n",
      "10000/10000 [==============================] - 0s 45us/step\n",
      "test_acc: 0.9946\n"
     ]
    }
   ],
   "source": [
    "trainAndEvalNetwork(train_images_crim, train_labels_rand, test_images_crim, test_labels_rand, 28 * 28, 2)"
   ]
  },
  {
   "cell_type": "markdown",
   "metadata": {},
   "source": [
    "Note the above accuracy value - approximately 99% - shows that we have trained a model to determine whether the image is a JPG or PNG. The fact that we have labelled one as criminal and the other as non-criminal is irrelevant and is merely confusing our understanding of what the model is actually doing. A neural network that trains off of two datasets, where one happens to be all PNGs and the other happens to be all JPGs, will have an artificially high accuracy rate."
   ]
  },
  {
   "cell_type": "code",
   "execution_count": null,
   "metadata": {},
   "outputs": [],
   "source": []
  }
 ],
 "metadata": {
  "kernelspec": {
   "display_name": "conda_tensorflow_p36",
   "language": "python",
   "name": "conda_tensorflow_p36"
  },
  "language_info": {
   "codemirror_mode": {
    "name": "ipython",
    "version": 3
   },
   "file_extension": ".py",
   "mimetype": "text/x-python",
   "name": "python",
   "nbconvert_exporter": "python",
   "pygments_lexer": "ipython3",
   "version": "3.6.6"
  }
 },
 "nbformat": 4,
 "nbformat_minor": 4
}
